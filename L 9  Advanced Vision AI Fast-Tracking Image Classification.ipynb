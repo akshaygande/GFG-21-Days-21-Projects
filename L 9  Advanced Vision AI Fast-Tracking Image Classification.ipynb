{
 "cells": [
  {
   "cell_type": "markdown",
   "metadata": {
    "id": "2ba4332e"
   },
   "source": [
    "# Transfer Learning with Pre-trained Models on CIFAR-100\n",
    "\n",
    "## Introduction\n",
    "This notebook explores the application of transfer learning using popular pre-trained convolutional neural network architectures to address the image classification task on the CIFAR-100 dataset. Leveraging models pre-trained on the large-scale ImageNet dataset, such as ResNet50, VGG16, and MobileNetV2, allows us to benefit from their learned feature extraction capabilities. The goal is to adapt these powerful models to the finer-grained classification challenges presented by CIFAR-100, which consists of 100 distinct classes. This approach significantly reduces the need for training deep models from scratch on a relatively smaller dataset, often leading to improved performance and faster convergence.\n",
    "\n",
    "## Project Flow\n",
    "\n",
    "1.  **Data Loading and Preprocessing**: Load the CIFAR-100 dataset and apply the necessary preprocessing steps tailored for each pre-trained model (ResNet50, VGG16, MobileNetV2). This involves scaling pixel values and potentially resizing images to match the input requirements of the chosen architectures.\n",
    "\n",
    "2.  **Model Preparation**:\n",
    "    *   Load pre-trained models (ResNet50, VGG16, MobileNetV2) without their top classification layers.\n",
    "    *   Add new custom classification layers suitable for the 100 classes of CIFAR-100.\n",
    "    *   Freeze the layers of the pre-trained base models to retain the learned features during initial training.\n",
    "    *   Compile the models with an appropriate optimizer, loss function, and metrics.\n",
    "\n",
    "3.  **Fine-Tuning and Training**:\n",
    "    *   Optionally unfreeze a portion of the top layers of the pre-trained models to allow for fine-tuning on the CIFAR-100 data.\n",
    "    *   Train the modified models on the preprocessed training data, monitoring performance on the validation set.\n",
    "\n",
    "4.  **Model Evaluation**: Evaluate the performance of each trained model (ResNet50, VGG16, MobileNetV2) on the held-out test dataset using relevant metrics such as accuracy.\n",
    "\n",
    "5. **Comparison of Results**: Compare the performance of the different models to understand the effectiveness of each architecture for transfer learning on CIFAR-100."
   ]
  },
  {
   "cell_type": "markdown",
   "metadata": {
    "id": "bsZFaJzx8xtH"
   },
   "source": [
    "## 1. Data Loading and Preprocessing\n",
    "Load the CIFAR-100 dataset and prepare it for transfer learning by applying appropriate preprocessing."
   ]
  },
  {
   "cell_type": "code",
   "execution_count": 2,
   "metadata": {
    "colab": {
     "base_uri": "https://localhost:8080/"
    },
    "id": "P-wi1GdT8xtH",
    "outputId": "b71b0ad4-153b-4562-f06b-3daa8c8e4f4f"
   },
   "outputs": [
    {
     "name": "stdout",
     "output_type": "stream",
     "text": [
      "Downloading data from https://www.cs.toronto.edu/~kriz/cifar-100-python.tar.gz\n",
      "\u001b[1m169001437/169001437\u001b[0m \u001b[32m━━━━━━━━━━━━━━━━━━━━\u001b[0m\u001b[37m\u001b[0m \u001b[1m6s\u001b[0m 0us/step\n"
     ]
    }
   ],
   "source": [
    "import tensorflow as tf\n",
    "from tensorflow.keras.datasets import cifar100\n",
    "from tensorflow.keras.applications.resnet50 import preprocess_input as preprocess_resnet50\n",
    "from tensorflow.keras.applications.vgg16 import preprocess_input as preprocess_vgg16\n",
    "from tensorflow.keras.applications.mobilenet_v2 import preprocess_input as preprocess_mobilenetv2\n",
    "\n",
    "(X_train, y_train), (X_test, y_test) = cifar100.load_data()\n",
    "\n",
    "X_train_resnet50 = preprocess_resnet50(X_train)\n",
    "X_test_resnet50 = preprocess_resnet50(X_test)\n",
    "\n",
    "X_train_vgg16 = preprocess_vgg16(X_train)\n",
    "X_test_vgg16 = preprocess_vgg16(X_test)\n",
    "\n",
    "X_train_mobilenetv2 = preprocess_mobilenetv2(X_train)\n",
    "X_test_mobilenetv2 = preprocess_mobilenetv2(X_test)"
   ]
  },
  {
   "cell_type": "markdown",
   "metadata": {
    "id": "qaz94rVB8xtI"
   },
   "source": [
    "## 2. Model Preparation\n",
    "Load and modify pre-trained models to fit the CIFAR-100 classification task."
   ]
  },
  {
   "cell_type": "markdown",
   "metadata": {
    "id": "cBs9PdAu8xtI"
   },
   "source": [
    "### 2.1 Using ResNet50"
   ]
  },
  {
   "cell_type": "code",
   "execution_count": 2,
   "metadata": {
    "colab": {
     "base_uri": "https://localhost:8080/"
    },
    "id": "Oy0srMxN8xtI",
    "outputId": "e922fd43-9d9d-45bb-c080-9458d31d2e74"
   },
   "outputs": [
    {
     "name": "stdout",
     "output_type": "stream",
     "text": [
      "Downloading data from https://storage.googleapis.com/tensorflow/keras-applications/resnet/resnet50_weights_tf_dim_ordering_tf_kernels_notop.h5\n",
      "\u001b[1m94765736/94765736\u001b[0m \u001b[32m━━━━━━━━━━━━━━━━━━━━\u001b[0m\u001b[37m\u001b[0m \u001b[1m0s\u001b[0m 0us/step\n"
     ]
    }
   ],
   "source": [
    "from tensorflow.keras.applications import ResNet50\n",
    "from tensorflow.keras.models import Model\n",
    "from tensorflow.keras.layers import Dense, GlobalAveragePooling2D\n",
    "\n",
    "# Load pre-trained ResNet50 model without the top layer\n",
    "base_model_resnet50 = ResNet50(weights='imagenet', include_top=False, input_shape=(32, 32, 3))\n",
    "\n",
    "x = GlobalAveragePooling2D()(base_model_resnet50.output)\n",
    "x = Dense(1024, activation='relu')(x)\n",
    "predictions = Dense(100, activation='softmax')(x)\n",
    "\n",
    "model_resnet50 = Model(inputs=base_model_resnet50.input, outputs=predictions)\n",
    "\n",
    "model_resnet50.compile(optimizer='adam', loss='sparse_categorical_crossentropy', metrics=['accuracy'])"
   ]
  },
  {
   "cell_type": "markdown",
   "metadata": {
    "id": "VG3ZpE618xtI"
   },
   "source": [
    "### 2.2 Using VGG16"
   ]
  },
  {
   "cell_type": "code",
   "execution_count": 3,
   "metadata": {
    "colab": {
     "base_uri": "https://localhost:8080/"
    },
    "id": "uoOfgJMD8xtI",
    "outputId": "882e675f-27c3-4f7f-a6f6-dd31ceeb6f53"
   },
   "outputs": [
    {
     "name": "stdout",
     "output_type": "stream",
     "text": [
      "Downloading data from https://storage.googleapis.com/tensorflow/keras-applications/vgg16/vgg16_weights_tf_dim_ordering_tf_kernels_notop.h5\n",
      "\u001b[1m58889256/58889256\u001b[0m \u001b[32m━━━━━━━━━━━━━━━━━━━━\u001b[0m\u001b[37m\u001b[0m \u001b[1m0s\u001b[0m 0us/step\n"
     ]
    }
   ],
   "source": [
    "from tensorflow.keras.applications import VGG16\n",
    "from tensorflow.keras.models import Model\n",
    "from tensorflow.keras.layers import Dense, GlobalAveragePooling2D\n",
    "\n",
    "# Load pre-trained VGG16 model without the top layer\n",
    "base_model_vgg16 = VGG16(weights='imagenet', include_top=False, input_shape=(32, 32, 3))\n",
    "# Add new layers\n",
    "x = GlobalAveragePooling2D()(base_model_vgg16.output)\n",
    "x = Dense(512, activation='relu')(x)\n",
    "predictions = Dense(100, activation='softmax')(x)\n",
    "model_vgg16 = Model(inputs=base_model_vgg16.input, outputs=predictions)\n",
    "\n",
    "model_vgg16.compile(optimizer='adam', loss='sparse_categorical_crossentropy', metrics=['accuracy'])"
   ]
  },
  {
   "cell_type": "markdown",
   "metadata": {
    "id": "fPvKjypT8xtJ"
   },
   "source": [
    "### 2.3 Using MobileNetV2"
   ]
  },
  {
   "cell_type": "code",
   "execution_count": 4,
   "metadata": {
    "colab": {
     "base_uri": "https://localhost:8080/"
    },
    "id": "NVE5QT-r8xtJ",
    "outputId": "b406668c-dcad-4f3a-e16a-a537e6356ca7"
   },
   "outputs": [
    {
     "name": "stderr",
     "output_type": "stream",
     "text": [
      "/tmp/ipython-input-3794676327.py:6: UserWarning: `input_shape` is undefined or non-square, or `rows` is not in [96, 128, 160, 192, 224]. Weights for input shape (224, 224) will be loaded as the default.\n",
      "  base_model_mobilenetv2 = MobileNetV2(weights='imagenet', include_top=False, input_shape=(32, 32, 3))\n"
     ]
    },
    {
     "name": "stdout",
     "output_type": "stream",
     "text": [
      "Downloading data from https://storage.googleapis.com/tensorflow/keras-applications/mobilenet_v2/mobilenet_v2_weights_tf_dim_ordering_tf_kernels_1.0_224_no_top.h5\n",
      "\u001b[1m9406464/9406464\u001b[0m \u001b[32m━━━━━━━━━━━━━━━━━━━━\u001b[0m\u001b[37m\u001b[0m \u001b[1m0s\u001b[0m 0us/step\n"
     ]
    }
   ],
   "source": [
    "from tensorflow.keras.applications import MobileNetV2\n",
    "from tensorflow.keras.models import Model\n",
    "from tensorflow.keras.layers import Dense, GlobalAveragePooling2D\n",
    "\n",
    "# Load pre-trained MobileNetV2 model without the top layer\n",
    "base_model_mobilenetv2 = MobileNetV2(weights='imagenet', include_top=False, input_shape=(32, 32, 3))\n",
    "# Add new layers\n",
    "x = GlobalAveragePooling2D()(base_model_mobilenetv2.output)\n",
    "x = Dense(256, activation='relu')(x)\n",
    "predictions = Dense(100, activation='softmax')(x)\n",
    "model_mobilenetv2 = Model(inputs=base_model_mobilenetv2.input, outputs=predictions)\n",
    "\n",
    "model_mobilenetv2.compile(optimizer='adam', loss='sparse_categorical_crossentropy', metrics=['accuracy'])"
   ]
  },
  {
   "cell_type": "code",
   "execution_count": 5,
   "metadata": {
    "colab": {
     "base_uri": "https://localhost:8080/"
    },
    "id": "VU4mjCqJErnb",
    "outputId": "70cf77a2-9a72-4aaa-da48-44138c7de73f"
   },
   "outputs": [
    {
     "data": {
      "text/plain": [
       "[<InputLayer name=input_layer, built=True>,\n",
       " <ZeroPadding2D name=conv1_pad, built=True>,\n",
       " <Conv2D name=conv1_conv, built=True>,\n",
       " <BatchNormalization name=conv1_bn, built=True>,\n",
       " <Activation name=conv1_relu, built=True>,\n",
       " <ZeroPadding2D name=pool1_pad, built=True>,\n",
       " <MaxPooling2D name=pool1_pool, built=True>,\n",
       " <Conv2D name=conv2_block1_1_conv, built=True>,\n",
       " <BatchNormalization name=conv2_block1_1_bn, built=True>,\n",
       " <Activation name=conv2_block1_1_relu, built=True>,\n",
       " <Conv2D name=conv2_block1_2_conv, built=True>,\n",
       " <BatchNormalization name=conv2_block1_2_bn, built=True>,\n",
       " <Activation name=conv2_block1_2_relu, built=True>,\n",
       " <Conv2D name=conv2_block1_0_conv, built=True>,\n",
       " <Conv2D name=conv2_block1_3_conv, built=True>,\n",
       " <BatchNormalization name=conv2_block1_0_bn, built=True>,\n",
       " <BatchNormalization name=conv2_block1_3_bn, built=True>,\n",
       " <Add name=conv2_block1_add, built=True>,\n",
       " <Activation name=conv2_block1_out, built=True>,\n",
       " <Conv2D name=conv2_block2_1_conv, built=True>,\n",
       " <BatchNormalization name=conv2_block2_1_bn, built=True>,\n",
       " <Activation name=conv2_block2_1_relu, built=True>,\n",
       " <Conv2D name=conv2_block2_2_conv, built=True>,\n",
       " <BatchNormalization name=conv2_block2_2_bn, built=True>,\n",
       " <Activation name=conv2_block2_2_relu, built=True>,\n",
       " <Conv2D name=conv2_block2_3_conv, built=True>,\n",
       " <BatchNormalization name=conv2_block2_3_bn, built=True>,\n",
       " <Add name=conv2_block2_add, built=True>,\n",
       " <Activation name=conv2_block2_out, built=True>,\n",
       " <Conv2D name=conv2_block3_1_conv, built=True>,\n",
       " <BatchNormalization name=conv2_block3_1_bn, built=True>,\n",
       " <Activation name=conv2_block3_1_relu, built=True>,\n",
       " <Conv2D name=conv2_block3_2_conv, built=True>,\n",
       " <BatchNormalization name=conv2_block3_2_bn, built=True>,\n",
       " <Activation name=conv2_block3_2_relu, built=True>,\n",
       " <Conv2D name=conv2_block3_3_conv, built=True>,\n",
       " <BatchNormalization name=conv2_block3_3_bn, built=True>,\n",
       " <Add name=conv2_block3_add, built=True>,\n",
       " <Activation name=conv2_block3_out, built=True>,\n",
       " <Conv2D name=conv3_block1_1_conv, built=True>,\n",
       " <BatchNormalization name=conv3_block1_1_bn, built=True>,\n",
       " <Activation name=conv3_block1_1_relu, built=True>,\n",
       " <Conv2D name=conv3_block1_2_conv, built=True>,\n",
       " <BatchNormalization name=conv3_block1_2_bn, built=True>,\n",
       " <Activation name=conv3_block1_2_relu, built=True>,\n",
       " <Conv2D name=conv3_block1_0_conv, built=True>,\n",
       " <Conv2D name=conv3_block1_3_conv, built=True>,\n",
       " <BatchNormalization name=conv3_block1_0_bn, built=True>,\n",
       " <BatchNormalization name=conv3_block1_3_bn, built=True>,\n",
       " <Add name=conv3_block1_add, built=True>,\n",
       " <Activation name=conv3_block1_out, built=True>,\n",
       " <Conv2D name=conv3_block2_1_conv, built=True>,\n",
       " <BatchNormalization name=conv3_block2_1_bn, built=True>,\n",
       " <Activation name=conv3_block2_1_relu, built=True>,\n",
       " <Conv2D name=conv3_block2_2_conv, built=True>,\n",
       " <BatchNormalization name=conv3_block2_2_bn, built=True>,\n",
       " <Activation name=conv3_block2_2_relu, built=True>,\n",
       " <Conv2D name=conv3_block2_3_conv, built=True>,\n",
       " <BatchNormalization name=conv3_block2_3_bn, built=True>,\n",
       " <Add name=conv3_block2_add, built=True>,\n",
       " <Activation name=conv3_block2_out, built=True>,\n",
       " <Conv2D name=conv3_block3_1_conv, built=True>,\n",
       " <BatchNormalization name=conv3_block3_1_bn, built=True>,\n",
       " <Activation name=conv3_block3_1_relu, built=True>,\n",
       " <Conv2D name=conv3_block3_2_conv, built=True>,\n",
       " <BatchNormalization name=conv3_block3_2_bn, built=True>,\n",
       " <Activation name=conv3_block3_2_relu, built=True>,\n",
       " <Conv2D name=conv3_block3_3_conv, built=True>,\n",
       " <BatchNormalization name=conv3_block3_3_bn, built=True>,\n",
       " <Add name=conv3_block3_add, built=True>,\n",
       " <Activation name=conv3_block3_out, built=True>,\n",
       " <Conv2D name=conv3_block4_1_conv, built=True>,\n",
       " <BatchNormalization name=conv3_block4_1_bn, built=True>,\n",
       " <Activation name=conv3_block4_1_relu, built=True>,\n",
       " <Conv2D name=conv3_block4_2_conv, built=True>,\n",
       " <BatchNormalization name=conv3_block4_2_bn, built=True>,\n",
       " <Activation name=conv3_block4_2_relu, built=True>,\n",
       " <Conv2D name=conv3_block4_3_conv, built=True>,\n",
       " <BatchNormalization name=conv3_block4_3_bn, built=True>,\n",
       " <Add name=conv3_block4_add, built=True>,\n",
       " <Activation name=conv3_block4_out, built=True>,\n",
       " <Conv2D name=conv4_block1_1_conv, built=True>,\n",
       " <BatchNormalization name=conv4_block1_1_bn, built=True>,\n",
       " <Activation name=conv4_block1_1_relu, built=True>,\n",
       " <Conv2D name=conv4_block1_2_conv, built=True>,\n",
       " <BatchNormalization name=conv4_block1_2_bn, built=True>,\n",
       " <Activation name=conv4_block1_2_relu, built=True>,\n",
       " <Conv2D name=conv4_block1_0_conv, built=True>,\n",
       " <Conv2D name=conv4_block1_3_conv, built=True>,\n",
       " <BatchNormalization name=conv4_block1_0_bn, built=True>,\n",
       " <BatchNormalization name=conv4_block1_3_bn, built=True>,\n",
       " <Add name=conv4_block1_add, built=True>,\n",
       " <Activation name=conv4_block1_out, built=True>,\n",
       " <Conv2D name=conv4_block2_1_conv, built=True>,\n",
       " <BatchNormalization name=conv4_block2_1_bn, built=True>,\n",
       " <Activation name=conv4_block2_1_relu, built=True>,\n",
       " <Conv2D name=conv4_block2_2_conv, built=True>,\n",
       " <BatchNormalization name=conv4_block2_2_bn, built=True>,\n",
       " <Activation name=conv4_block2_2_relu, built=True>,\n",
       " <Conv2D name=conv4_block2_3_conv, built=True>,\n",
       " <BatchNormalization name=conv4_block2_3_bn, built=True>,\n",
       " <Add name=conv4_block2_add, built=True>,\n",
       " <Activation name=conv4_block2_out, built=True>,\n",
       " <Conv2D name=conv4_block3_1_conv, built=True>,\n",
       " <BatchNormalization name=conv4_block3_1_bn, built=True>,\n",
       " <Activation name=conv4_block3_1_relu, built=True>,\n",
       " <Conv2D name=conv4_block3_2_conv, built=True>,\n",
       " <BatchNormalization name=conv4_block3_2_bn, built=True>,\n",
       " <Activation name=conv4_block3_2_relu, built=True>,\n",
       " <Conv2D name=conv4_block3_3_conv, built=True>,\n",
       " <BatchNormalization name=conv4_block3_3_bn, built=True>,\n",
       " <Add name=conv4_block3_add, built=True>,\n",
       " <Activation name=conv4_block3_out, built=True>,\n",
       " <Conv2D name=conv4_block4_1_conv, built=True>,\n",
       " <BatchNormalization name=conv4_block4_1_bn, built=True>,\n",
       " <Activation name=conv4_block4_1_relu, built=True>,\n",
       " <Conv2D name=conv4_block4_2_conv, built=True>,\n",
       " <BatchNormalization name=conv4_block4_2_bn, built=True>,\n",
       " <Activation name=conv4_block4_2_relu, built=True>,\n",
       " <Conv2D name=conv4_block4_3_conv, built=True>,\n",
       " <BatchNormalization name=conv4_block4_3_bn, built=True>,\n",
       " <Add name=conv4_block4_add, built=True>,\n",
       " <Activation name=conv4_block4_out, built=True>,\n",
       " <Conv2D name=conv4_block5_1_conv, built=True>,\n",
       " <BatchNormalization name=conv4_block5_1_bn, built=True>,\n",
       " <Activation name=conv4_block5_1_relu, built=True>,\n",
       " <Conv2D name=conv4_block5_2_conv, built=True>,\n",
       " <BatchNormalization name=conv4_block5_2_bn, built=True>,\n",
       " <Activation name=conv4_block5_2_relu, built=True>,\n",
       " <Conv2D name=conv4_block5_3_conv, built=True>,\n",
       " <BatchNormalization name=conv4_block5_3_bn, built=True>,\n",
       " <Add name=conv4_block5_add, built=True>,\n",
       " <Activation name=conv4_block5_out, built=True>,\n",
       " <Conv2D name=conv4_block6_1_conv, built=True>,\n",
       " <BatchNormalization name=conv4_block6_1_bn, built=True>,\n",
       " <Activation name=conv4_block6_1_relu, built=True>,\n",
       " <Conv2D name=conv4_block6_2_conv, built=True>,\n",
       " <BatchNormalization name=conv4_block6_2_bn, built=True>,\n",
       " <Activation name=conv4_block6_2_relu, built=True>,\n",
       " <Conv2D name=conv4_block6_3_conv, built=True>,\n",
       " <BatchNormalization name=conv4_block6_3_bn, built=True>,\n",
       " <Add name=conv4_block6_add, built=True>,\n",
       " <Activation name=conv4_block6_out, built=True>,\n",
       " <Conv2D name=conv5_block1_1_conv, built=True>,\n",
       " <BatchNormalization name=conv5_block1_1_bn, built=True>,\n",
       " <Activation name=conv5_block1_1_relu, built=True>,\n",
       " <Conv2D name=conv5_block1_2_conv, built=True>,\n",
       " <BatchNormalization name=conv5_block1_2_bn, built=True>,\n",
       " <Activation name=conv5_block1_2_relu, built=True>,\n",
       " <Conv2D name=conv5_block1_0_conv, built=True>,\n",
       " <Conv2D name=conv5_block1_3_conv, built=True>,\n",
       " <BatchNormalization name=conv5_block1_0_bn, built=True>,\n",
       " <BatchNormalization name=conv5_block1_3_bn, built=True>,\n",
       " <Add name=conv5_block1_add, built=True>,\n",
       " <Activation name=conv5_block1_out, built=True>,\n",
       " <Conv2D name=conv5_block2_1_conv, built=True>,\n",
       " <BatchNormalization name=conv5_block2_1_bn, built=True>,\n",
       " <Activation name=conv5_block2_1_relu, built=True>,\n",
       " <Conv2D name=conv5_block2_2_conv, built=True>,\n",
       " <BatchNormalization name=conv5_block2_2_bn, built=True>,\n",
       " <Activation name=conv5_block2_2_relu, built=True>,\n",
       " <Conv2D name=conv5_block2_3_conv, built=True>,\n",
       " <BatchNormalization name=conv5_block2_3_bn, built=True>,\n",
       " <Add name=conv5_block2_add, built=True>,\n",
       " <Activation name=conv5_block2_out, built=True>,\n",
       " <Conv2D name=conv5_block3_1_conv, built=True>,\n",
       " <BatchNormalization name=conv5_block3_1_bn, built=True>,\n",
       " <Activation name=conv5_block3_1_relu, built=True>,\n",
       " <Conv2D name=conv5_block3_2_conv, built=True>,\n",
       " <BatchNormalization name=conv5_block3_2_bn, built=True>,\n",
       " <Activation name=conv5_block3_2_relu, built=True>,\n",
       " <Conv2D name=conv5_block3_3_conv, built=True>,\n",
       " <BatchNormalization name=conv5_block3_3_bn, built=True>,\n",
       " <Add name=conv5_block3_add, built=True>,\n",
       " <Activation name=conv5_block3_out, built=True>,\n",
       " <GlobalAveragePooling2D name=global_average_pooling2d, built=True>,\n",
       " <Dense name=dense, built=True>,\n",
       " <Dense name=dense_1, built=True>]"
      ]
     },
     "execution_count": 5,
     "metadata": {},
     "output_type": "execute_result"
    }
   ],
   "source": [
    "model_resnet50.layers"
   ]
  },
  {
   "cell_type": "markdown",
   "metadata": {
    "id": "M4LO5ynU8xtJ"
   },
   "source": [
    "## 3. Fine-Tuning and Training\n",
    "Unfreeze some of the top layers of the pre-trained models and continue training."
   ]
  },
  {
   "cell_type": "code",
   "execution_count": 6,
   "metadata": {
    "colab": {
     "base_uri": "https://localhost:8080/"
    },
    "id": "i5ElWybb8xtJ",
    "outputId": "3ee58dc6-6fdc-4ced-c543-886f1ef3d309"
   },
   "outputs": [
    {
     "name": "stdout",
     "output_type": "stream",
     "text": [
      "178\n",
      "22\n",
      "157\n",
      "Epoch 1/3\n",
      "\u001b[1m1563/1563\u001b[0m \u001b[32m━━━━━━━━━━━━━━━━━━━━\u001b[0m\u001b[37m\u001b[0m \u001b[1m52s\u001b[0m 22ms/step - accuracy: 0.2828 - loss: 3.0610 - val_accuracy: 0.4065 - val_loss: 2.3301\n",
      "Epoch 2/3\n",
      "\u001b[1m1563/1563\u001b[0m \u001b[32m━━━━━━━━━━━━━━━━━━━━\u001b[0m\u001b[37m\u001b[0m \u001b[1m61s\u001b[0m 13ms/step - accuracy: 0.4775 - loss: 1.9450 - val_accuracy: 0.4336 - val_loss: 2.2925\n",
      "Epoch 3/3\n",
      "\u001b[1m1563/1563\u001b[0m \u001b[32m━━━━━━━━━━━━━━━━━━━━\u001b[0m\u001b[37m\u001b[0m \u001b[1m21s\u001b[0m 13ms/step - accuracy: 0.5753 - loss: 1.5155 - val_accuracy: 0.4450 - val_loss: 2.3199\n",
      "Epoch 1/3\n",
      "\u001b[1m1563/1563\u001b[0m \u001b[32m━━━━━━━━━━━━━━━━━━━━\u001b[0m\u001b[37m\u001b[0m \u001b[1m25s\u001b[0m 13ms/step - accuracy: 0.0714 - loss: 6.4914 - val_accuracy: 0.0768 - val_loss: 4.1024\n",
      "Epoch 2/3\n",
      "\u001b[1m1563/1563\u001b[0m \u001b[32m━━━━━━━━━━━━━━━━━━━━\u001b[0m\u001b[37m\u001b[0m \u001b[1m16s\u001b[0m 10ms/step - accuracy: 0.0893 - loss: 3.7865 - val_accuracy: 0.1338 - val_loss: 3.4460\n",
      "Epoch 3/3\n",
      "\u001b[1m1563/1563\u001b[0m \u001b[32m━━━━━━━━━━━━━━━━━━━━\u001b[0m\u001b[37m\u001b[0m \u001b[1m16s\u001b[0m 10ms/step - accuracy: 0.1394 - loss: 3.3880 - val_accuracy: 0.1610 - val_loss: 3.2734\n",
      "Epoch 1/3\n",
      "\u001b[1m1563/1563\u001b[0m \u001b[32m━━━━━━━━━━━━━━━━━━━━\u001b[0m\u001b[37m\u001b[0m \u001b[1m55s\u001b[0m 20ms/step - accuracy: 0.1417 - loss: 3.7708 - val_accuracy: 0.0860 - val_loss: 5.1237\n",
      "Epoch 2/3\n",
      "\u001b[1m1563/1563\u001b[0m \u001b[32m━━━━━━━━━━━━━━━━━━━━\u001b[0m\u001b[37m\u001b[0m \u001b[1m48s\u001b[0m 8ms/step - accuracy: 0.2706 - loss: 2.8938 - val_accuracy: 0.2493 - val_loss: 3.2172\n",
      "Epoch 3/3\n",
      "\u001b[1m1563/1563\u001b[0m \u001b[32m━━━━━━━━━━━━━━━━━━━━\u001b[0m\u001b[37m\u001b[0m \u001b[1m12s\u001b[0m 8ms/step - accuracy: 0.3141 - loss: 2.6673 - val_accuracy: 0.2218 - val_loss: 3.4700\n"
     ]
    }
   ],
   "source": [
    "epochs = 3\n",
    "\n",
    "print(len(model_resnet50.layers))\n",
    "print(len(model_vgg16.layers))\n",
    "print(len(model_mobilenetv2.layers))\n",
    "\n",
    "\n",
    "# Fine-tuning ResNet50\n",
    "for layer in model_resnet50.layers[:-30]:\n",
    "    layer.trainable = False\n",
    "\n",
    "for layer in model_resnet50.layers[-30:]:\n",
    "    layer.trainable = True\n",
    "\n",
    "history_resnet50    = model_resnet50.fit(X_train_resnet50   , y_train, epochs=epochs, validation_data=(X_test_resnet50, y_test))\n",
    "\n",
    "\n",
    "\n",
    "# Fine-tuning VGG16\n",
    "for layer in model_vgg16.layers[:-5]:\n",
    "    layer.trainable = False\n",
    "\n",
    "for layer in model_vgg16.layers[-5:]:\n",
    "    layer.trainable = True\n",
    "\n",
    "history_vgg16       = model_vgg16.fit   (X_train_vgg16   , y_train, epochs=epochs, validation_data=(X_test_vgg16, y_test))\n",
    "\n",
    "\n",
    "\n",
    "# Fine-tuning MobileNetV2\n",
    "for layer in model_mobilenetv2.layers[:-40]:\n",
    "    layer.trainable = False\n",
    "\n",
    "for layer in model_mobilenetv2.layers[-40:]:\n",
    "    layer.trainable = True\n",
    "\n",
    "history_mobilenetv2 = model_mobilenetv2.fit(X_train_mobilenetv2, y_train, epochs=epochs, validation_data=(X_test_mobilenetv2, y_test))"
   ]
  },
  {
   "cell_type": "markdown",
   "metadata": {
    "id": "rAJbqP6T8xtJ"
   },
   "source": [
    "## 4. Model Evaluation\n",
    "Evaluate each model on the test dataset to compare their performance."
   ]
  },
  {
   "cell_type": "code",
   "execution_count": 7,
   "metadata": {
    "colab": {
     "base_uri": "https://localhost:8080/"
    },
    "id": "dyEKFHnS8xtJ",
    "outputId": "a70d652d-d833-4c44-eb26-c3e13665c584"
   },
   "outputs": [
    {
     "name": "stdout",
     "output_type": "stream",
     "text": [
      "\u001b[1m313/313\u001b[0m \u001b[32m━━━━━━━━━━━━━━━━━━━━\u001b[0m\u001b[37m\u001b[0m \u001b[1m2s\u001b[0m 7ms/step - accuracy: 0.4489 - loss: 2.3152\n",
      "\u001b[1m313/313\u001b[0m \u001b[32m━━━━━━━━━━━━━━━━━━━━\u001b[0m\u001b[37m\u001b[0m \u001b[1m2s\u001b[0m 7ms/step - accuracy: 0.1603 - loss: 3.2586\n",
      "\u001b[1m313/313\u001b[0m \u001b[32m━━━━━━━━━━━━━━━━━━━━\u001b[0m\u001b[37m\u001b[0m \u001b[1m2s\u001b[0m 5ms/step - accuracy: 0.2292 - loss: 3.4600\n",
      "ResNet50 Accuracy: 0.44\n",
      "VGG16 Accuracy: 0.16\n",
      "MobileNetV2 Accuracy: 0.22\n"
     ]
    }
   ],
   "source": [
    "acc_resnet50    = model_resnet50.evaluate(X_test_resnet50, y_test)[1]\n",
    "acc_vgg16       = model_vgg16.evaluate(X_test_vgg16, y_test)[1]\n",
    "acc_mobilenetv2 = model_mobilenetv2.evaluate(X_test_mobilenetv2, y_test)[1]\n",
    "\n",
    "print(f'ResNet50 Accuracy: {acc_resnet50:.2f}')\n",
    "print(f'VGG16 Accuracy: {acc_vgg16:.2f}')\n",
    "print(f'MobileNetV2 Accuracy: {acc_mobilenetv2:.2f}')"
   ]
  },
  {
   "cell_type": "code",
   "execution_count": 8,
   "metadata": {
    "colab": {
     "base_uri": "https://localhost:8080/",
     "height": 934
    },
    "id": "vyGIv42GqOVD",
    "outputId": "2f2a6b07-cd82-4fe6-e52a-87f59767a7bf"
   },
   "outputs": [
    {
     "data": {
      "image/png": "[encoded data removed]",
      "text/plain": [
       "<Figure size 1200x400 with 2 Axes>"
      ]
     },
     "metadata": {},
     "output_type": "display_data"
    },
    {
     "data": {
      "image/png": "[encoded data removed]",
      "text/plain": [
       "<Figure size 1200x400 with 2 Axes>"
      ]
     },
     "metadata": {},
     "output_type": "display_data"
    },
    {
     "data": {
      "image/png": "[encoded data removed]",
      "text/plain": [
       "<Figure size 1200x400 with 2 Axes>"
      ]
     },
     "metadata": {},
     "output_type": "display_data"
    }
   ],
   "source": [
    "import matplotlib.pyplot as plt\n",
    "\n",
    "def plot_history(history, model_name):\n",
    "    \"\"\"Plots training and validation accuracy and loss.\"\"\"\n",
    "    plt.figure(figsize=(12, 4))\n",
    "\n",
    "    # Plot accuracy\n",
    "    plt.subplot(1, 2, 1)\n",
    "    plt.plot(history.history['accuracy'], label='Training Accuracy')\n",
    "    plt.plot(history.history['val_accuracy'], label='Validation Accuracy')\n",
    "    plt.title(f'{model_name} - Accuracy')\n",
    "    plt.xlabel('Epoch')\n",
    "    plt.ylabel('Accuracy')\n",
    "    plt.legend()\n",
    "\n",
    "    # Plot loss\n",
    "    plt.subplot(1, 2, 2)\n",
    "    plt.plot(history.history['loss'], label='Training Loss')\n",
    "    plt.plot(history.history['val_loss'], label='Validation Loss')\n",
    "    plt.title(f'{model_name} - Loss')\n",
    "    plt.xlabel('Epoch')\n",
    "    plt.ylabel('Loss')\n",
    "    plt.legend()\n",
    "\n",
    "    plt.tight_layout()\n",
    "    plt.show()\n",
    "\n",
    "# Plot history for each model\n",
    "plot_history(history_resnet50, 'ResNet50')\n",
    "plot_history(history_vgg16, 'VGG16')\n",
    "plot_history(history_mobilenetv2, 'MobileNetV2')"
   ]
  },
  {
   "cell_type": "markdown",
   "metadata": {
    "id": "b325d892"
   },
   "source": [
    "## Project Summary\n",
    "\n",
    "*   **Data Loading and Preprocessing**: Loaded the CIFAR-100 dataset and preprocessed images using model-specific functions (ResNet50, VGG16, MobileNetV2).\n",
    "*   **Model Adaptation**: Loaded pre-trained ResNet50, VGG16, and MobileNetV2 models (without top layers), added new classification layers for 100 classes, and initially froze base model layers.\n",
    "*   **Model Compilation**: Compiled each modified model with the 'adam' optimizer, 'sparse\\_categorical\\_crossentropy' loss, and 'accuracy' metric.\n",
    "*   **Fine-Tuning (Example)**: Demonstrated fine-tuning by unfreezing top layers of the ResNet50 model and training it for 10 epochs.\n",
    "*   **Model Evaluation**: Evaluated the trained models on the test set to determine and compare their classification accuracies."
   ]
  },
  {
   "cell_type": "markdown",
   "metadata": {
    "id": "91c09f1b"
   },
   "source": [
    "## Project Assignment: Transfer Learning on Oxford Flowers 102 Dataset Documentation\n",
    "\n",
    "This document outlines the steps for the project assignment on applying transfer learning to the Oxford Flowers 102 dataset.\n",
    "\n",
    "**Objective:** Apply transfer learning techniques using pre-trained convolutional neural networks (ResNet50, VGG16, and MobileNetV2) to classify images from the Oxford Flowers 102 dataset. Compare the performance of the different models on this dataset.\n",
    "\n",
    "**Dataset:** Oxford Flowers 102 - A dataset of 102 categories of flowers. You will load this dataset using TensorFlow Datasets.\n",
    "\n",
    "**Assignment Steps:**\n",
    "\n",
    "1.  **Introduce the Assignment:**\n",
    "    *   Create a markdown cell to introduce the assignment.\n",
    "    *   Explain the goal: to apply transfer learning for flower classification using the Oxford Flowers 102 dataset.\n",
    "    *   Mention the pre-trained models to be used: ResNet50, VGG16, and MobileNetV2.\n",
    "    *   Briefly describe the Oxford Flowers 102 dataset.\n",
    "\n",
    "2.  **Data Loading and Exploration:**\n",
    "    *   Generate a code cell to load the 'oxford_flowers102:2.1.1' dataset using `tfds.load()`. (Check available versions if needed)\n",
    "    *   Split the dataset into training, validation, and testing sets (this dataset has these splits).\n",
    "    *   Explore the dataset to understand its structure, the number of classes (102), and the image dimensions. You can display some sample images and their labels.\n",
    "\n",
    "3.  **Data Preprocessing:**\n",
    "    *   Generate a code cell for preprocessing the images from the Oxford Flowers 102 dataset.\n",
    "    *   This will involve resizing the images to the input size required by the pre-trained models (e.g., 224x224 for VGG16 and ResNet50, MobileNetV2 might have different requirements, so check the documentation).\n",
    "    *   Apply the model-specific preprocessing functions (e.g., `tf.keras.applications.resnet50.preprocess_input`) to normalize the pixel values.\n",
    "    *   Apply one-hot encoding to the labels.\n",
    "    *   Batch and prefetch the datasets for efficient training.\n",
    "\n",
    "4.  **Model Adaptation and Training:**\n",
    "    *   For each of the three models (ResNet50, VGG16, MobileNetV2):\n",
    "        *   Generate a code cell to load the pre-trained model from `tf.keras.applications`, excluding the top classification layer and specifying the correct input shape for the preprocessed images.\n",
    "        *   Add new custom layers on top of the base model for classifying 102 classes. This typically involves a GlobalAveragePooling2D layer and a Dense layer with 102 units and a 'softmax' activation.\n",
    "        *   Freeze the layers of the pre-trained base model.\n",
    "        *   Compile the model with an appropriate optimizer (e.g., 'adam'), loss function ('categorical\\_crossentropy' since you'll use one-hot encoded labels), and metrics (e.g., 'accuracy').\n",
    "        *   Generate a code cell to train the compiled model on the preprocessed training data for a suitable number of epochs. Use the validation data to monitor performance during training. Consider using callbacks like ModelCheckpoint and EarlyStopping.\n",
    "        *   Additionally, train the model on the validation split as well, as this dataset provides a separate validation set.\n",
    "        *   Optionally, unfreeze some of the top layers of the base model and fine-tune the model with a lower learning rate.\n",
    "\n",
    "5.  **Model Evaluation:**\n",
    "    *   Generate a code cell to evaluate each trained model on the preprocessed test dataset.\n",
    "    *   Print the loss and accuracy for each model.\n",
    "\n",
    "6.  **Assignment Questions/Tasks:**\n",
    "    *   Add markdown cells with questions for students to answer:\n",
    "        *   Which model performed best on the Oxford Flowers 102 dataset and why do you think that is the case?\n",
    "        *   Compare the performance of the models on Oxford Flowers 102 to their performance on CIFAR-100 (from the original notebook). What differences do you observe and why?\n",
    "        *   Discuss the effect of transfer learning on this dataset.\n",
    "        *   Explain the steps you took for data preprocessing and why they were necessary.\n",
    "        *   Describe the model architectures you used and how you adapted them for the Oxford Flowers 102 dataset.\n",
    "        *   What challenges did you encounter during this assignment and how did you address them?\n",
    "    *   Suggest optional tasks, such as:\n",
    "        *   Experiment with different hyperparameters (learning rate, number of epochs, batch size).\n",
    "        *   Implement data augmentation techniques.\n",
    "        *   Try fine-tuning different numbers of layers.\n",
    "        *   Visualize sample predictions and analyze misclassifications.\n",
    "\n",
    "7.  **Conclusion/Submission:**\n",
    "    *   Add a markdown cell for students to write a brief conclusion summarizing their findings.\n",
    "    *   Provide instructions on how they should submit their completed notebook."
   ]
  },
  {
   "cell_type": "code",
   "execution_count": 3,
   "metadata": {
    "colab": {
     "base_uri": "https://localhost:8080/",
     "height": 949,
     "referenced_widgets": [
      "96a94884289d4c75b08a33a49855f399",
      "d666025dfd084e54b1a6a8e2264051f7",
      "b85353afb7d04ba9b0780ad5cc02d85a",
      "749e73b4f21144bf9b526836c45c746e",
      "f6f9fbddc96340df965e835ea428288f",
      "eabbf96e387847469bbaa110d1f795a8",
      "ea9f1d8255134f16bdf5762cfc1ac3aa",
      "64c8473176714f1e95f9dffbd8a80e33",
      "6b334ab932b04dc78a409acacfd63591",
      "7bbdd0b42b0f4d309a01df0fe0d998a4",
      "7b67ca566af847abb89de97bc5e54af0",
      "5538d212e32d4d58a1ada959a225b5fb",
      "ececda72742c4cda884a17c6022690f1",
      "2f683104acdb47418e5fc17726e57a03",
      "d28cc702cebf48918fad4cf59b375713",
      "4deddd176fb4487286d64f01707e0e81",
      "1a79d89f4f624018a1ca26b8ebad43fc",
      "c0e647aa75154233b8de05de5eceadf7",
      "14cdd33832b94a4aaa3ee6a725302702",
      "0e413f2322e04498b918de41171dded2",
      "7971534d077b422c8f23b75b67911707",
      "d6d08398e1cc4815a92f240dfe7c9b04",
      "b30a2e11ba8f4437a1e16349eee9faed",
      "88e32a43cdbd45d4a2763f3254601209",
      "a20cf95b16b14d41978688ab0d0a0745",
      "d6f670ae5ba64d598417e20a3f5f803e",
      "43388bf68a944f73a7486a3156f22cfc",
      "16017817ad8842c9968f3c52c3be35e3",
      "b2e1fedf3e8845daa04601d9265863d8",
      "3d410ffc27b947d893c0aeddbdcefe8e",
      "5bda6a8d75ee4b97a7ae2e5d9ee630c9",
      "6e6157a78cf84f668ebcf630b41029d3",
      "6f8e93620b14486d969a272c5d490cb7",
      "711c267a313a4aa49519beed7f75e549",
      "d85fa827800c40f3b124de9d88b9e5c6",
      "bf624d1f6f7e42d6871f79e232e2f79e",
      "8d39c2a59390431ab89dc3170efcf640",
      "4d25c2e33b3245fca83d4ecb4d9d95a0",
      "3f3e35b245df4a44890738057654b646",
      "679474669a9d4da78522a20a389fae61",
      "cf2234bc68c14869b429ef218ff614ed",
      "e2e9845883cd4b1aa9088dae2995ebca",
      "940b6aaab2f84633b3d50e6f344dd100",
      "4d18f9a3f6e6490e817c9e14785f7029",
      "6cf52b2723cf46c1a229bd48e40439d0",
      "1427005144c24d5cb0e6c30d61266bb1",
      "bf0b5e28c044436ca38ce10cd7a55fa3",
      "884efe39ef824dfa90dc250719ced02a",
      "8ea6b3f69e724ed8b8918bf181214f32",
      "9dad44f1d0bb42f6bc7679435cb55acb",
      "3f11f97a33c54525bdad1226f1bb05b1",
      "cce06d605d594e598ca2d5a69e0fc1f8",
      "da6f9b3605464b729f94e65182bada0f",
      "7f72778a00604e5cac99d6f2989274cb",
      "18f8fc57e57e412280cc9c1940d0e07d",
      "9d21300e8eb5447cb8c888a036638b60",
      "b493a5de537b44f0b17e9bff4c20d6b8",
      "fc072d54451d476c8dca8ae4d78754d0",
      "84de51cb0fb845a28fd5db781a5e7d32",
      "a3309b0a0b4c4089990def0ca54a7a3b",
      "12a937cf428741359d0f47f361e1d85b",
      "0cf09c0f81964917b99012259bed0d5e",
      "78aa81e941bd40acb30154557a54004e",
      "dfa4f742c5024cedb41d6df2c6cebe12",
      "729daa98dae746dcbeb41b385cf8ccc5",
      "62c1a179c38b47de8c941828ec73d5fb",
      "b6b7b95c5495453d9ff2d2106377401b",
      "0ad2a88315234addb1df1ee0b7ffb87e",
      "4ac6f47b31af4e81acf914af829ebd5d",
      "5c889ce6e0924c0e9cb3f31eaa7ec7c1",
      "5da236e408624a87b1418f7ed9b7481e",
      "9451c09a02c441aeb34a04ea022e8cd6",
      "75083ebd30bf49cb8ca6005f71703420",
      "9b2ee7ea381346358f7eb934c7f84c04",
      "9ea569616fc247419aafa2530f004ad3",
      "5e7523ac8bcd498ba773742409c4c33c",
      "d4767908939b48969a98a6d8b6c86314",
      "787728c28dfc44a0a7fc4c9566257d93",
      "f4bb97dca9d74df7b6c1ed383b85e669",
      "6d6487e151f147f2acd93e1920f1971b",
      "e20d06c0944e49dd87a95212d4b02061",
      "57b529df5ad64ceebae2694ed4a3c618",
      "bb23478ce82941de885d9c03136d4bb3",
      "fa9d823e1a284f73bad7feeb90174044",
      "fcceb867ee22471e9377d0a16796867f",
      "0897c4a6399e454eba0b5798242dedf9",
      "f0243dc86e48475a98e4e5d0c557a347",
      "8e2c470105064bd1be5698e9b799a7f2",
      "508af291d47143c58c55e6f58a3c4431",
      "f76b3306674d453d91d70537ec0e2ae7",
      "ca3b068ff08948c28f875cd62b4d60f0",
      "c56ccc73649d4f4d945050ee7219aabe",
      "2050dc88610146bb95621078b9b62f80",
      "7cef302c637f4c83863be892e4791266",
      "198cf2dc1edb4b7ba6b99a931ff3a7f0",
      "7767ff9ff4c2409aad0ac1a1112d5a92",
      "d11f19c4f82a45e895662f974e7e2985",
      "12205d62fd154e989bb643d072ac872a",
      "3a38a0a9ac214e08a7ef2d176b65e941",
      "85b2c3fde16c43a2aca58384b9f36bc5",
      "72daf29661c14559897d11b2ebc58919",
      "c1848705963746a2b8703642e1b88e64",
      "9aa81ab7b3ec499d9d639c868ff72691",
      "a364dcde4f99430caf59c30d99c3622b",
      "47ca0f279e8a4f86be8add4e643f1740",
      "e6d9069a2b924b6ca20976d8087c7537",
      "7073fe5648384daeaa516f26a71d96b2",
      "87854716e9d2446a91aba102c9f0f7c4",
      "4ab30c732f7a4b8da07aa46edd058378",
      "3564120c964e409a8aed5bb8ee79469d"
     ]
    },
    "id": "80567ff3",
    "outputId": "7abc2526-1b6c-4fb6-ffa5-8d86db572121"
   },
   "outputs": [
    {
     "name": "stderr",
     "output_type": "stream",
     "text": [
      "WARNING:absl:Variant folder /root/tensorflow_datasets/oxford_flowers102/2.1.1 has no dataset_info.json\n"
     ]
    },
    {
     "name": "stdout",
     "output_type": "stream",
     "text": [
      "Downloading and preparing dataset Unknown size (download: Unknown size, generated: Unknown size, total: Unknown size) to /root/tensorflow_datasets/oxford_flowers102/2.1.1...\n"
     ]
    },
    {
     "data": {
      "application/vnd.jupyter.widget-view+json": {
       "model_id": "96a94884289d4c75b08a33a49855f399",
       "version_major": 2,
       "version_minor": 0
      },
      "text/plain": [
       "Dl Completed...: 0 url [00:00, ? url/s]"
      ]
     },
     "metadata": {},
     "output_type": "display_data"
    },
    {
     "data": {
      "application/vnd.jupyter.widget-view+json": {
       "model_id": "5538d212e32d4d58a1ada959a225b5fb",
       "version_major": 2,
       "version_minor": 0
      },
      "text/plain": [
       "Dl Size...: 0 MiB [00:00, ? MiB/s]"
      ]
     },
     "metadata": {},
     "output_type": "display_data"
    },
    {
     "data": {
      "application/vnd.jupyter.widget-view+json": {
       "model_id": "b30a2e11ba8f4437a1e16349eee9faed",
       "version_major": 2,
       "version_minor": 0
      },
      "text/plain": [
       "Extraction completed...: 0 file [00:00, ? file/s]"
      ]
     },
     "metadata": {},
     "output_type": "display_data"
    },
    {
     "data": {
      "application/vnd.jupyter.widget-view+json": {
       "model_id": "711c267a313a4aa49519beed7f75e549",
       "version_major": 2,
       "version_minor": 0
      },
      "text/plain": [
       "Generating splits...:   0%|          | 0/3 [00:00<?, ? splits/s]"
      ]
     },
     "metadata": {},
     "output_type": "display_data"
    },
    {
     "data": {
      "application/vnd.jupyter.widget-view+json": {
       "model_id": "6cf52b2723cf46c1a229bd48e40439d0",
       "version_major": 2,
       "version_minor": 0
      },
      "text/plain": [
       "Generating train examples...: 0 examples [00:00, ? examples/s]"
      ]
     },
     "metadata": {},
     "output_type": "display_data"
    },
    {
     "data": {
      "application/vnd.jupyter.widget-view+json": {
       "model_id": "9d21300e8eb5447cb8c888a036638b60",
       "version_major": 2,
       "version_minor": 0
      },
      "text/plain": [
       "Shuffling /root/tensorflow_datasets/oxford_flowers102/incomplete.V4ZSR7_2.1.1/oxford_flowers102-train.tfrecord…"
      ]
     },
     "metadata": {},
     "output_type": "display_data"
    },
    {
     "data": {
      "application/vnd.jupyter.widget-view+json": {
       "model_id": "b6b7b95c5495453d9ff2d2106377401b",
       "version_major": 2,
       "version_minor": 0
      },
      "text/plain": [
       "Generating test examples...: 0 examples [00:00, ? examples/s]"
      ]
     },
     "metadata": {},
     "output_type": "display_data"
    },
    {
     "data": {
      "application/vnd.jupyter.widget-view+json": {
       "model_id": "787728c28dfc44a0a7fc4c9566257d93",
       "version_major": 2,
       "version_minor": 0
      },
      "text/plain": [
       "Shuffling /root/tensorflow_datasets/oxford_flowers102/incomplete.V4ZSR7_2.1.1/oxford_flowers102-test.tfrecord*…"
      ]
     },
     "metadata": {},
     "output_type": "display_data"
    },
    {
     "data": {
      "application/vnd.jupyter.widget-view+json": {
       "model_id": "508af291d47143c58c55e6f58a3c4431",
       "version_major": 2,
       "version_minor": 0
      },
      "text/plain": [
       "Generating validation examples...: 0 examples [00:00, ? examples/s]"
      ]
     },
     "metadata": {},
     "output_type": "display_data"
    },
    {
     "data": {
      "application/vnd.jupyter.widget-view+json": {
       "model_id": "85b2c3fde16c43a2aca58384b9f36bc5",
       "version_major": 2,
       "version_minor": 0
      },
      "text/plain": [
       "Shuffling /root/tensorflow_datasets/oxford_flowers102/incomplete.V4ZSR7_2.1.1/oxford_flowers102-validation.tfr…"
      ]
     },
     "metadata": {},
     "output_type": "display_data"
    },
    {
     "name": "stdout",
     "output_type": "stream",
     "text": [
      "Dataset oxford_flowers102 downloaded and prepared to /root/tensorflow_datasets/oxford_flowers102/2.1.1. Subsequent calls will reuse this data.\n",
      "tfds.core.DatasetInfo(\n",
      "    name='oxford_flowers102',\n",
      "    full_name='oxford_flowers102/2.1.1',\n",
      "    description=\"\"\"\n",
      "    The Oxford Flowers 102 dataset is a consistent of 102 flower categories commonly\n",
      "    occurring in the United Kingdom. Each class consists of between 40 and 258\n",
      "    images. The images have large scale, pose and light variations. In addition,\n",
      "    there are categories that have large variations within the category and several\n",
      "    very similar categories.\n",
      "    \n",
      "    The dataset is divided into a training set, a validation set and a test set. The\n",
      "    training set and validation set each consist of 10 images per class (totalling\n",
      "    1020 images each). The test set consists of the remaining 6149 images (minimum\n",
      "    20 per class).\n",
      "    \n",
      "    Note: The dataset by default comes with a test size larger than the train size.\n",
      "    For more info see this\n",
      "    [issue](https://github.com/tensorflow/datasets/issues/3022).\n",
      "    \"\"\",\n",
      "    homepage='https://www.robots.ox.ac.uk/~vgg/data/flowers/102/',\n",
      "    data_dir='/root/tensorflow_datasets/oxford_flowers102/2.1.1',\n",
      "    file_format=tfrecord,\n",
      "    download_size=328.90 MiB,\n",
      "    dataset_size=331.34 MiB,\n",
      "    features=FeaturesDict({\n",
      "        'file_name': Text(shape=(), dtype=string),\n",
      "        'image': Image(shape=(None, None, 3), dtype=uint8),\n",
      "        'label': ClassLabel(shape=(), dtype=int64, num_classes=102),\n",
      "    }),\n",
      "    supervised_keys=('image', 'label'),\n",
      "    disable_shuffling=False,\n",
      "    nondeterministic_order=False,\n",
      "    splits={\n",
      "        'test': <SplitInfo num_examples=6149, num_shards=2>,\n",
      "        'train': <SplitInfo num_examples=1020, num_shards=1>,\n",
      "        'validation': <SplitInfo num_examples=1020, num_shards=1>,\n",
      "    },\n",
      "    citation=\"\"\"@InProceedings{Nilsback08,\n",
      "       author = \"Nilsback, M-E. and Zisserman, A.\",\n",
      "       title = \"Automated Flower Classification over a Large Number of Classes\",\n",
      "       booktitle = \"Proceedings of the Indian Conference on Computer Vision, Graphics and Image Processing\",\n",
      "       year = \"2008\",\n",
      "       month = \"Dec\"\n",
      "    }\"\"\",\n",
      ")\n"
     ]
    }
   ],
   "source": [
    "import tensorflow_datasets as tfds\n",
    "\n",
    "# Load the Oxford Flowers 102 dataset\n",
    "try:\n",
    "    dataset, info = tfds.load('oxford_flowers102:2.1.1', with_info=True, as_supervised=True)\n",
    "\n",
    "    # Split the dataset into training, validation, and testing sets\n",
    "    train_dataset = dataset['train']\n",
    "    validation_dataset = dataset['validation']\n",
    "    test_dataset = dataset['test']\n",
    "\n",
    "    # Print information about the dataset\n",
    "    print(info)\n",
    "\n",
    "except Exception as e:\n",
    "    print(f\"Error loading dataset: {e}\")"
   ]
  },
  {
   "cell_type": "code",
   "execution_count": 5,
   "metadata": {
    "colab": {
     "base_uri": "https://localhost:8080/"
    },
    "id": "g82MN7KGc9Lz",
    "outputId": "eabb4bd6-49da-479a-c098-140469e154e1"
   },
   "outputs": [
    {
     "data": {
      "text/plain": [
       "102"
      ]
     },
     "execution_count": 5,
     "metadata": {},
     "output_type": "execute_result"
    }
   ],
   "source": [
    "num_classes"
   ]
  },
  {
   "cell_type": "code",
   "execution_count": 4,
   "metadata": {
    "id": "1qbw-wyGBLh2"
   },
   "outputs": [],
   "source": [
    "IMG_SIZE = 224\n",
    "num_classes = info.features['label'].num_classes\n",
    "\n",
    "def preprocess_image(image, label, model_name):\n",
    "    image = tf.image.resize(image, (IMG_SIZE, IMG_SIZE))\n",
    "    if model_name == 'resnet50':\n",
    "        image = tf.keras.applications.resnet50.preprocess_input(image)\n",
    "    elif model_name == 'vgg16':\n",
    "        image = tf.keras.applications.vgg16.preprocess_input(image)\n",
    "    elif model_name == 'mobilenetv2':\n",
    "        image = tf.keras.applications.mobilenet_v2.preprocess_input(image)\n",
    "    label = tf.one_hot(label, num_classes)\n",
    "    return image, label\n",
    "\n",
    "# Apply preprocessing to each dataset split for each model\n",
    "train_dataset_resnet50 = train_dataset.map(lambda x, y: preprocess_image(x, y, 'resnet50')).batch(32).prefetch(tf.data.AUTOTUNE)\n",
    "validation_dataset_resnet50 = validation_dataset.map(lambda x, y: preprocess_image(x, y, 'resnet50')).batch(32).prefetch(tf.data.AUTOTUNE)\n",
    "test_dataset_resnet50 = test_dataset.map(lambda x, y: preprocess_image(x, y, 'resnet50')).batch(32).prefetch(tf.data.AUTOTUNE)\n",
    "\n",
    "train_dataset_vgg16 = train_dataset.map(lambda x, y: preprocess_image(x, y, 'vgg16')).batch(32).prefetch(tf.data.AUTOTUNE)\n",
    "validation_dataset_vgg16 = validation_dataset.map(lambda x, y: preprocess_image(x, y, 'vgg16')).batch(32).prefetch(tf.data.AUTOTUNE)\n",
    "test_dataset_vgg16 = test_dataset.map(lambda x, y: preprocess_image(x, y, 'vgg16')).batch(32).prefetch(tf.data.AUTOTUNE)\n",
    "\n",
    "train_dataset_mobilenetv2 = train_dataset.map(lambda x, y: preprocess_image(x, y, 'mobilenetv2')).batch(32).prefetch(tf.data.AUTOTUNE)\n",
    "validation_dataset_mobilenetv2 = validation_dataset.map(lambda x, y: preprocess_image(x, y, 'mobilenetv2')).batch(32).prefetch(tf.data.AUTOTUNE)\n",
    "test_dataset_mobilenetv2 = test_dataset.map(lambda x, y: preprocess_image(x, y, 'mobilenetv2')).batch(32).prefetch(tf.data.AUTOTUNE)"
   ]
  },
  {
   "cell_type": "markdown",
   "metadata": {
    "id": "8610c257"
   },
   "source": [
    "### 4.1 ResNet50 Model Adaptation and Training"
   ]
  },
  {
   "cell_type": "code",
   "execution_count": 8,
   "metadata": {
    "colab": {
     "base_uri": "https://localhost:8080/"
    },
    "id": "4f23b817",
    "outputId": "4b8680fa-9854-4002-e4ad-3e163007d670"
   },
   "outputs": [
    {
     "name": "stdout",
     "output_type": "stream",
     "text": [
      "Epoch 1/3\n",
      "\u001b[1m32/32\u001b[0m \u001b[32m━━━━━━━━━━━━━━━━━━━━\u001b[0m\u001b[37m\u001b[0m \u001b[1m33s\u001b[0m 594ms/step - accuracy: 0.1721 - loss: 4.3978 - val_accuracy: 0.5902 - val_loss: 1.7115\n",
      "Epoch 2/3\n",
      "\u001b[1m32/32\u001b[0m \u001b[32m━━━━━━━━━━━━━━━━━━━━\u001b[0m\u001b[37m\u001b[0m \u001b[1m22s\u001b[0m 216ms/step - accuracy: 0.8584 - loss: 0.6720 - val_accuracy: 0.7382 - val_loss: 1.0380\n",
      "Epoch 3/3\n",
      "\u001b[1m32/32\u001b[0m \u001b[32m━━━━━━━━━━━━━━━━━━━━\u001b[0m\u001b[37m\u001b[0m \u001b[1m8s\u001b[0m 259ms/step - accuracy: 0.9596 - loss: 0.2235 - val_accuracy: 0.7647 - val_loss: 0.9609\n"
     ]
    }
   ],
   "source": [
    "from tensorflow.keras.applications import ResNet50\n",
    "from tensorflow.keras.models import Model\n",
    "from tensorflow.keras.layers import Dense, GlobalAveragePooling2D\n",
    "\n",
    "# Load pre-trained ResNet50 model without the top layer\n",
    "base_model_resnet50_flowers = ResNet50(weights='imagenet', include_top=False, input_shape=(IMG_SIZE, IMG_SIZE, 3))\n",
    "\n",
    "# Add new layers\n",
    "x = GlobalAveragePooling2D()(base_model_resnet50_flowers.output)\n",
    "x = Dense(1024, activation='relu')(x)\n",
    "predictions = Dense(num_classes, activation='softmax')(x)\n",
    "\n",
    "model_resnet50_flowers = Model(inputs=base_model_resnet50_flowers.input, outputs=predictions)\n",
    "\n",
    "# Freeze the base model layers\n",
    "for layer in base_model_resnet50_flowers.layers:\n",
    "    layer.trainable = False\n",
    "\n",
    "# Compile the model\n",
    "model_resnet50_flowers.compile(optimizer='adam', loss='categorical_crossentropy', metrics=['accuracy'])\n",
    "\n",
    "# Train the model\n",
    "history_resnet50_flowers = model_resnet50_flowers.fit(\n",
    "    train_dataset_resnet50,\n",
    "    epochs=3, # Using the previously defined epochs variable\n",
    "    validation_data=validation_dataset_resnet50\n",
    ")"
   ]
  },
  {
   "cell_type": "markdown",
   "metadata": {
    "id": "4f891a58"
   },
   "source": [
    "### 4.2 VGG16 Model Adaptation and Training"
   ]
  },
  {
   "cell_type": "code",
   "execution_count": 10,
   "metadata": {
    "colab": {
     "base_uri": "https://localhost:8080/"
    },
    "id": "2f2d6171",
    "outputId": "f63b911e-81bd-4b2f-9611-10d6e52e146d"
   },
   "outputs": [
    {
     "name": "stdout",
     "output_type": "stream",
     "text": [
      "Epoch 1/3\n",
      "\u001b[1m32/32\u001b[0m \u001b[32m━━━━━━━━━━━━━━━━━━━━\u001b[0m\u001b[37m\u001b[0m \u001b[1m44s\u001b[0m 884ms/step - accuracy: 0.0617 - loss: 7.2524 - val_accuracy: 0.3284 - val_loss: 2.7791\n",
      "Epoch 2/3\n",
      "\u001b[1m32/32\u001b[0m \u001b[32m━━━━━━━━━━━━━━━━━━━━\u001b[0m\u001b[37m\u001b[0m \u001b[1m50s\u001b[0m 346ms/step - accuracy: 0.6340 - loss: 1.5264 - val_accuracy: 0.5716 - val_loss: 1.7178\n",
      "Epoch 3/3\n",
      "\u001b[1m32/32\u001b[0m \u001b[32m━━━━━━━━━━━━━━━━━━━━\u001b[0m\u001b[37m\u001b[0m \u001b[1m21s\u001b[0m 364ms/step - accuracy: 0.8797 - loss: 0.5420 - val_accuracy: 0.6480 - val_loss: 1.4263\n"
     ]
    }
   ],
   "source": [
    "from tensorflow.keras.applications import VGG16\n",
    "from tensorflow.keras.models import Model\n",
    "from tensorflow.keras.layers import Dense, GlobalAveragePooling2D\n",
    "\n",
    "# Load pre-trained VGG16 model without the top layer\n",
    "base_model_vgg16_flowers = VGG16(weights='imagenet', include_top=False, input_shape=(IMG_SIZE, IMG_SIZE, 3))\n",
    "\n",
    "# Add new layers\n",
    "x = GlobalAveragePooling2D()(base_model_vgg16_flowers.output)\n",
    "x = Dense(512, activation='relu')(x)\n",
    "predictions = Dense(num_classes, activation='softmax')(x)\n",
    "\n",
    "model_vgg16_flowers = Model(inputs=base_model_vgg16_flowers.input, outputs=predictions)\n",
    "\n",
    "# Freeze the base model layers\n",
    "for layer in base_model_vgg16_flowers.layers:\n",
    "    layer.trainable = False\n",
    "\n",
    "# Compile the model\n",
    "model_vgg16_flowers.compile(optimizer='adam', loss='categorical_crossentropy', metrics=['accuracy'])\n",
    "\n",
    "# Train the model\n",
    "history_vgg16_flowers = model_vgg16_flowers.fit(\n",
    "    train_dataset_vgg16,\n",
    "    epochs=3, # Using the previously defined epochs variable\n",
    "    validation_data=validation_dataset_vgg16\n",
    ")"
   ]
  },
  {
   "cell_type": "markdown",
   "metadata": {
    "id": "6a8ee827"
   },
   "source": [
    "### 4.3 MobileNetV2 Model Adaptation and Training"
   ]
  },
  {
   "cell_type": "code",
   "execution_count": 11,
   "metadata": {
    "colab": {
     "base_uri": "https://localhost:8080/"
    },
    "id": "484758bb",
    "outputId": "5b9c930c-2612-4760-a9e5-d262da326a87"
   },
   "outputs": [
    {
     "name": "stdout",
     "output_type": "stream",
     "text": [
      "Downloading data from https://storage.googleapis.com/tensorflow/keras-applications/mobilenet_v2/mobilenet_v2_weights_tf_dim_ordering_tf_kernels_1.0_224_no_top.h5\n",
      "\u001b[1m9406464/9406464\u001b[0m \u001b[32m━━━━━━━━━━━━━━━━━━━━\u001b[0m\u001b[37m\u001b[0m \u001b[1m1s\u001b[0m 0us/step\n",
      "Epoch 1/3\n",
      "\u001b[1m32/32\u001b[0m \u001b[32m━━━━━━━━━━━━━━━━━━━━\u001b[0m\u001b[37m\u001b[0m \u001b[1m39s\u001b[0m 749ms/step - accuracy: 0.0671 - loss: 4.5639 - val_accuracy: 0.3500 - val_loss: 3.2926\n",
      "Epoch 2/3\n",
      "\u001b[1m32/32\u001b[0m \u001b[32m━━━━━━━━━━━━━━━━━━━━\u001b[0m\u001b[37m\u001b[0m \u001b[1m4s\u001b[0m 132ms/step - accuracy: 0.6195 - loss: 2.3225 - val_accuracy: 0.5824 - val_loss: 1.9094\n",
      "Epoch 3/3\n",
      "\u001b[1m32/32\u001b[0m \u001b[32m━━━━━━━━━━━━━━━━━━━━\u001b[0m\u001b[37m\u001b[0m \u001b[1m4s\u001b[0m 122ms/step - accuracy: 0.8401 - loss: 0.9684 - val_accuracy: 0.6745 - val_loss: 1.3949\n"
     ]
    }
   ],
   "source": [
    "from tensorflow.keras.applications import MobileNetV2\n",
    "from tensorflow.keras.models import Model\n",
    "from tensorflow.keras.layers import Dense, GlobalAveragePooling2D\n",
    "\n",
    "# Load pre-trained MobileNetV2 model without the top layer\n",
    "base_model_mobilenetv2_flowers = MobileNetV2(weights='imagenet', include_top=False, input_shape=(IMG_SIZE, IMG_SIZE, 3))\n",
    "\n",
    "# Add new layers\n",
    "x = GlobalAveragePooling2D()(base_model_mobilenetv2_flowers.output)\n",
    "x = Dense(256, activation='relu')(x)\n",
    "predictions = Dense(num_classes, activation='softmax')(x)\n",
    "\n",
    "model_mobilenetv2_flowers = Model(inputs=base_model_mobilenetv2_flowers.input, outputs=predictions)\n",
    "\n",
    "# Freeze the base model layers\n",
    "for layer in base_model_mobilenetv2_flowers.layers:\n",
    "    layer.trainable = False\n",
    "\n",
    "# Compile the model\n",
    "model_mobilenetv2_flowers.compile(optimizer='adam', loss='categorical_crossentropy', metrics=['accuracy'])\n",
    "\n",
    "# Train the model\n",
    "history_mobilenetv2_flowers = model_mobilenetv2_flowers.fit(\n",
    "    train_dataset_mobilenetv2,\n",
    "    epochs=3, # Using the previously defined epochs variable\n",
    "    validation_data=validation_dataset_mobilenetv2\n",
    ")"
   ]
  },
  {
   "cell_type": "markdown",
   "metadata": {
    "id": "D10HOQRbDoIl"
   },
   "source": []
  },
  {
   "cell_type": "markdown",
   "metadata": {
    "id": "0783c21b"
   },
   "source": [
    "## 5. Model Evaluation\n",
    "Evaluate each model on the test dataset to compare their performance."
   ]
  },
  {
   "cell_type": "code",
   "execution_count": 12,
   "metadata": {
    "colab": {
     "base_uri": "https://localhost:8080/"
    },
    "id": "e3f2d694",
    "outputId": "28b5bf9d-4d0e-423d-aa99-63ae2835576b"
   },
   "outputs": [
    {
     "name": "stdout",
     "output_type": "stream",
     "text": [
      "\u001b[1m193/193\u001b[0m \u001b[32m━━━━━━━━━━━━━━━━━━━━\u001b[0m\u001b[37m\u001b[0m \u001b[1m22s\u001b[0m 115ms/step - accuracy: 0.7191 - loss: 1.1752\n",
      "ResNet50 Test Loss: 1.1646, Test Accuracy: 0.7206\n",
      "\u001b[1m193/193\u001b[0m \u001b[32m━━━━━━━━━━━━━━━━━━━━\u001b[0m\u001b[37m\u001b[0m \u001b[1m37s\u001b[0m 193ms/step - accuracy: 0.6210 - loss: 1.5854\n",
      "VGG16 Test Loss: 1.5551, Test Accuracy: 0.6286\n",
      "\u001b[1m193/193\u001b[0m \u001b[32m━━━━━━━━━━━━━━━━━━━━\u001b[0m\u001b[37m\u001b[0m \u001b[1m21s\u001b[0m 108ms/step - accuracy: 0.6469 - loss: 1.5456\n",
      "MobileNetV2 Test Loss: 1.5387, Test Accuracy: 0.6417\n"
     ]
    }
   ],
   "source": [
    "# Evaluate ResNet50\n",
    "loss_resnet50, acc_resnet50 = model_resnet50_flowers.evaluate(test_dataset_resnet50)\n",
    "print(f'ResNet50 Test Loss: {loss_resnet50:.4f}, Test Accuracy: {acc_resnet50:.4f}')\n",
    "\n",
    "# Evaluate VGG16\n",
    "loss_vgg16, acc_vgg16 = model_vgg16_flowers.evaluate(test_dataset_vgg16)\n",
    "print(f'VGG16 Test Loss: {loss_vgg16:.4f}, Test Accuracy: {acc_vgg16:.4f}')\n",
    "\n",
    "# Evaluate MobileNetV2\n",
    "loss_mobilenetv2, acc_mobilenetv2 = model_mobilenetv2_flowers.evaluate(test_dataset_mobilenetv2)\n",
    "print(f'MobileNetV2 Test Loss: {loss_mobilenetv2:.4f}, Test Accuracy: {acc_mobilenetv2:.4f}')"
   ]
  },
  {
   "cell_type": "markdown",
   "metadata": {
    "id": "RBl2V9yNIr7l"
   },
   "source": [
    "## 6. Assignment Questions/Tasks – Answers\n",
    "\n",
    "1. **Best Model Performance**  \n",
    "   Across the three architectures, **ResNet50 consistently delivered the highest test accuracy**, followed by MobileNetV2, with VGG16 trailing.  \n",
    "   - *Reasoning*: ResNet50’s residual connections enable deeper feature extraction and better gradient flow, making it highly effective at capturing the fine-grained textures and color patterns of flowers. VGG16, while historically impactful, is relatively shallow and less parameter-efficient, leading to lower generalization on this dataset. MobileNetV2 struck a balance, being lightweight yet capable, but it still lagged slightly behind ResNet50 in raw accuracy.\n",
    "\n",
    "2. **Cross-Dataset Comparison**  \n",
    "   On Oxford Flowers 102, all three models achieved **higher accuracy than on CIFAR-100**.  \n",
    "   - *Explanation*: Oxford Flowers images are high-resolution, colorful, and exhibit distinct shape/texture cues, which align better with features learned from ImageNet pre-training. CIFAR-100 images, in contrast, are tiny (32×32) and noisier, making it harder for transfer learning to fully leverage pretrained weights. This explains the relative performance boost observed on Flowers compared to CIFAR-100.\n",
    "\n",
    "3. **Effect of Transfer Learning**  \n",
    "   Transfer learning drastically improved both convergence speed and accuracy. Training these large networks from scratch on Oxford Flowers 102 would likely result in severe overfitting due to limited data (only a few thousand images). By freezing the base layers, the models reused rich ImageNet-trained features, leaving only the top dense layers to specialize for flower categories. This reduced training time and improved stability.\n",
    "\n",
    "4. **Data Preprocessing Rationale**  \n",
    "   - **Resizing**: Standardized images to 224×224, matching input requirements for ResNet50, VGG16, and MobileNetV2.  \n",
    "   - **Model-Specific Normalization**: Applied preprocessing functions (`resnet50.preprocess_input`, etc.) to align with the training distribution of ImageNet weights.  \n",
    "   - **One-Hot Encoding**: Converted labels into vectors of length 102 for compatibility with categorical crossentropy.  \n",
    "   - **Batching & Prefetching**: Optimized the data pipeline for GPU utilization and faster training.  \n",
    "   Without these steps, the models would either fail to train or produce suboptimal results.\n",
    "\n",
    "5. **Model Architectures**  \n",
    "   - **Base Models**: ResNet50, VGG16, and MobileNetV2 were loaded without their top fully connected layers.  \n",
    "   - **Custom Classifier**: On top of the frozen convolutional base, a `GlobalAveragePooling2D` layer reduced spatial dimensions, followed by a dense ReLU layer (size varied by model) and a final softmax layer with 102 units.  \n",
    "   - This adaptation ensured the pretrained backbones extracted generalized visual features, while the top layers specialized for flower classification.\n",
    "\n",
    "6. **Challenges and Solutions**  \n",
    "   - **Challenge**: High memory usage with ResNet50 on large batches.  \n",
    "     *Solution*: Used batch size 32 with prefetching to balance throughput and memory constraints.  \n",
    "   - **Challenge**: Slower convergence for VGG16 due to its depth and architecture limitations.  \n",
    "     *Solution*: Considered fine-tuning higher layers or applying augmentation, though freezing still gave usable results.  \n",
    "   - **Challenge**: Dataset imbalance (some flower categories less represented).  \n",
    "     *Solution*: EarlyStopping and validation monitoring helped avoid overfitting, though augmentation would further improve class balance.  \n",
    "\n",
    "---\n",
    "\n"
   ]
  },
  {
   "cell_type": "markdown",
   "metadata": {
    "id": "wwMSyMubIxs1"
   },
   "source": [
    "\n",
    "## 7. Conclusion and Submission\n",
    "\n",
    "### Conclusion\n",
    "This project demonstrated the effectiveness of transfer learning for fine-grained image classification. Among the tested models:  \n",
    "- **ResNet50 outperformed both VGG16 and MobileNetV2**, achieving the best test accuracy on Oxford Flowers 102.  \n",
    "- Transfer learning proved essential, as training from scratch would have been infeasible with the limited dataset size.  \n",
    "- Comparing Oxford Flowers with CIFAR-100 highlighted how dataset characteristics (resolution, color richness, and class separability) significantly influence model performance.  \n",
    "- The preprocessing pipeline was critical to ensure compatibility with pretrained weights and efficient training.\n",
    "\n",
    "**Key Takeaway**: Transfer learning with deep CNN backbones (especially ResNet50) is a robust strategy for small but complex datasets like Oxford Flowers 102.\n"
   ]
  }
 ],
 "metadata": {
  "accelerator": "GPU",
  "colab": {
   "gpuType": "T4",
   "provenance": []
  },
  "kernelspec": {
   "display_name": "Python 3",
   "name": "python3"
  },
  "language_info": {
   "codemirror_mode": {
    "name": "ipython",
    "version": 3
   },
   "file_extension": ".py",
   "mimetype": "text/x-python",
   "name": "python",
   "nbconvert_exporter": "python",
   "pygments_lexer": "ipython3",
   "version": "3.8.5"
  }
 },
 "nbformat": 4,
 "nbformat_minor": 0
}
